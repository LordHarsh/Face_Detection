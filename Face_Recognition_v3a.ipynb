{
  "nbformat": 4,
  "nbformat_minor": 0,
  "metadata": {
    "coursera": {
      "course_slug": "convolutional-neural-networks",
      "graded_item_id": "IaknP",
      "launcher_item_id": "5UMr4"
    },
    "kernelspec": {
      "display_name": "Python 3",
      "language": "python",
      "name": "python3"
    },
    "language_info": {
      "codemirror_mode": {
        "name": "ipython",
        "version": 3
      },
      "file_extension": ".py",
      "mimetype": "text/x-python",
      "name": "python",
      "nbconvert_exporter": "python",
      "pygments_lexer": "ipython3",
      "version": "3.6.0"
    },
    "colab": {
      "name": "Face_Recognition_v3a.ipynb",
      "provenance": [],
      "collapsed_sections": [],
      "include_colab_link": true
    },
    "accelerator": "GPU"
  },
  "cells": [
    {
      "cell_type": "markdown",
      "metadata": {
        "id": "view-in-github",
        "colab_type": "text"
      },
      "source": [
        "<a href=\"https://colab.research.google.com/github/LordHarsh/Face_Detection/blob/main/Face_Recognition_v3a.ipynb\" target=\"_parent\"><img src=\"https://colab.research.google.com/assets/colab-badge.svg\" alt=\"Open In Colab\"/></a>"
      ]
    },
    {
      "cell_type": "markdown",
      "metadata": {
        "id": "_tr_WykNbO5y"
      },
      "source": [
        "Cloning repo to get other data"
      ]
    },
    {
      "cell_type": "code",
      "metadata": {
        "id": "AtdEz6HYI1Cd"
      },
      "source": [
        "!git clone https://github.com/LordHarsh/Face_Detection\n",
        "%cd /content/Face_Detection/"
      ],
      "execution_count": null,
      "outputs": []
    },
    {
      "cell_type": "markdown",
      "metadata": {
        "id": "U8c5uOK8IzVl"
      },
      "source": [
        "# Face Recognition\n",
        "\n",
        "Here, we will build a face recognition system. Many of the ideas presented here are from [FaceNet](https://arxiv.org/pdf/1503.03832.pdf) and [DeepFace](https://research.fb.com/wp-content/uploads/2016/11/deepface-closing-the-gap-to-human-level-performance-in-face-verification.pdf).\n",
        "\n",
        "Face recognition problems commonly fall into two categories: \n",
        "\n",
        "- **Face Verification** - \"is this the claimed person?\". For example, at some airports, you can pass through customs by letting a system scan your passport and then verifying that you (the person carrying the passport) are the correct person. A mobile phone that unlocks using your face is also using face verification. This is a 1:1 matching problem. \n",
        "- **Face Recognition** - \"who is this person?\". For example, the  employees entering the office without needing to otherwise identify themselves. This is a 1:K matching problem. \n",
        "\n",
        "FaceNet learns a neural network that encodes a face image into a vector of 128 numbers. By comparing two such vectors, you can then determine if two pictures are of the same person.\n",
        "    \n",
        "**Here, we will:**\n",
        "- Implement the triplet loss function\n",
        "- Use a pretrained model to map face images into 128-dimensional encodings\n",
        "- Use OpenCV to detect faces\n",
        "- Use these encodings to perform face verification and face recognition\n",
        "\n",
        "#### Channels-first notation\n",
        "\n",
        "* Here, we will be using a pre-trained model which represents ConvNet activations using a **\"channels first\"** convention, as opposed to the \"channels last\" convention. \n",
        "* In other words, a batch of images will be of shape $(m, n_C, n_H, n_W)$ instead of $(m, n_H, n_W, n_C)$. \n",
        "* Both of these conventions have a reasonable amount of traction among open-source implementations; there isn't a uniform standard yet within the deep learning community. "
      ]
    },
    {
      "cell_type": "markdown",
      "metadata": {
        "id": "wUKoU2vXIzVr"
      },
      "source": [
        "#### Load packages\n",
        "Let's load the required packages. "
      ]
    },
    {
      "cell_type": "code",
      "metadata": {
        "id": "09xVr201IzVt"
      },
      "source": [
        "from keras.models import Sequential\n",
        "from keras.layers import Conv2D, ZeroPadding2D, Activation, Input, concatenate\n",
        "from keras.models import Model\n",
        "from keras.layers.normalization import BatchNormalization\n",
        "from keras.layers.pooling import MaxPooling2D, AveragePooling2D\n",
        "from keras.layers.merge import Concatenate\n",
        "from keras.layers.core import Lambda, Flatten, Dense\n",
        "from keras.initializers import glorot_uniform\n",
        "from keras.engine.topology import Layer\n",
        "from keras import backend as K\n",
        "from google.colab import files\n",
        "K.set_image_data_format('channels_first')\n",
        "import cv2\n",
        "import os\n",
        "import numpy as np\n",
        "import shutil\n",
        "from numpy import genfromtxt\n",
        "import pandas as pd\n",
        "import tensorflow as tf\n",
        "from fr_utils import *\n",
        "from inception_blocks_v2 import *\n",
        "import sys\n",
        "import PIL\n",
        "from PIL import Image\n",
        "%matplotlib inline\n",
        "%load_ext autoreload\n",
        "%autoreload 2\n",
        "\n",
        "np.set_printoptions(threshold=sys.maxsize)"
      ],
      "execution_count": null,
      "outputs": []
    },
    {
      "cell_type": "markdown",
      "metadata": {
        "id": "Dt4FIXkOIzV6"
      },
      "source": [
        "## 0 - Naive Face Verification\n",
        "\n",
        "In Face Verification, we're given two images and you have to determine if they are of the same person. The simplest way to do this is to compare the two images pixel-by-pixel. If the distance between the raw images are less than a chosen threshold, it may be the same person! \n"
      ]
    },
    {
      "cell_type": "markdown",
      "metadata": {
        "id": "mDel1oUWIzV7"
      },
      "source": [
        "* Of course, this algorithm performs really poorly, since the pixel values change dramatically due to variations in lighting, orientation of the person's face, even minor changes in head position, and so on. \n",
        "* You'll see that rather than using the raw image, you can learn an encoding, $f(img)$.  \n",
        "* By using an encoding for each image, an element-wise comparison produces a more accurate judgement as to whether two pictures are of the same person."
      ]
    },
    {
      "cell_type": "markdown",
      "metadata": {
        "id": "kzX4JLg5IzV8"
      },
      "source": [
        "## 1 - Encoding face images into a 128-dimensional vector \n",
        "\n",
        "### 1.1 - Using a ConvNet  to compute encodings\n",
        "\n",
        "The FaceNet model takes a lot of data and a long time to train. So following common practice in applied deep learning, let's  load weights that someone else has already trained. The network architecture follows the Inception model from [Szegedy *et al.*](https://arxiv.org/abs/1409.4842). We have provided an inception network implementation. You can look in the file `inception_blocks_v2.py` to see how it is implemented (do so by going to \"File->Open...\" at the top of the Jupyter notebook.  This opens the file directory that contains the '.py' file). "
      ]
    },
    {
      "cell_type": "markdown",
      "metadata": {
        "id": "mR0516seIzV9"
      },
      "source": [
        "The key things you need to know are:\n",
        "\n",
        "- This network uses 96x96 dimensional RGB images as its input. Specifically, inputs a face image (or batch of $m$ face images) as a tensor of shape $(m, n_C, n_H, n_W) = (m, 3, 96, 96)$ \n",
        "- It outputs a matrix of shape $(m, 128)$ that encodes each input face image into a 128-dimensional vector\n",
        "\n",
        "Run the cell below to create the model for face images."
      ]
    },
    {
      "cell_type": "code",
      "metadata": {
        "id": "DCxzA5H-IzV-"
      },
      "source": [
        "FRmodel = faceRecoModel(input_shape=(3, 96, 96))"
      ],
      "execution_count": null,
      "outputs": []
    },
    {
      "cell_type": "code",
      "metadata": {
        "id": "KSiw1PY4IzWF"
      },
      "source": [
        "print(\"Total Params:\", FRmodel.count_params())"
      ],
      "execution_count": null,
      "outputs": []
    },
    {
      "cell_type": "markdown",
      "metadata": {
        "id": "PRqSC9AXIzWN"
      },
      "source": [
        "**Expected Output**\n",
        "<table>\n",
        "<center>\n",
        "Total Params: 3743280\n",
        "</center>\n",
        "</table>\n"
      ]
    },
    {
      "cell_type": "markdown",
      "metadata": {
        "id": "bQwWda8yIzWN"
      },
      "source": [
        "By using a 128-neuron fully connected layer as its last layer, the model ensures that the output is an encoding vector of size 128. You then use the encodings to compare two face images.\n",
        "\n",
        "\n",
        "So, an encoding is a good one if: \n",
        "- The encodings of two images of the same person are quite similar to each other. \n",
        "- The encodings of two images of different persons are very different.\n",
        "\n",
        "The triplet loss function formalizes this, and tries to \"push\" the encodings of two images of the same person (Anchor and Positive) closer together, while \"pulling\" the encodings of two images of different persons (Anchor, Negative) further apart. \n"
      ]
    },
    {
      "cell_type": "markdown",
      "metadata": {
        "id": "UAxSxvffIzWO"
      },
      "source": [
        "\n",
        "\n",
        "### 1.2 - The Triplet Loss\n",
        "\n",
        "For an image $x$, we denote its encoding $f(x)$, where $f$ is the function computed by the neural network.\n",
        "\n",
        "\n",
        "<!--\n",
        "We will also add a normalization step at the end of our model so that $\\mid \\mid f(x) \\mid \\mid_2 = 1$ (means the vector of encoding should be of norm 1).\n",
        "!-->\n",
        "\n",
        "Training will use triplets of images $(A, P, N)$:  \n",
        "\n",
        "- A is an \"Anchor\" image--a picture of a person. \n",
        "- P is a \"Positive\" image--a picture of the same person as the Anchor image.\n",
        "- N is a \"Negative\" image--a picture of a different person than the Anchor image.\n",
        "\n",
        "These triplets are picked from our training dataset. We will write $(A^{(i)}, P^{(i)}, N^{(i)})$ to denote the $i$-th training example. \n",
        "\n",
        "You'd like to make sure that an image $A^{(i)}$ of an individual is closer to the Positive $P^{(i)}$ than to the Negative image $N^{(i)}$) by at least a margin $\\alpha$:\n",
        "\n",
        "$$\\mid \\mid f(A^{(i)}) - f(P^{(i)}) \\mid \\mid_2^2 + \\alpha < \\mid \\mid f(A^{(i)}) - f(N^{(i)}) \\mid \\mid_2^2$$\n",
        "\n",
        "You would thus like to minimize the following \"triplet cost\":\n",
        "\n",
        "$$\\mathcal{J} = \\sum^{m}_{i=1} \\large[ \\small \\underbrace{\\mid \\mid f(A^{(i)}) - f(P^{(i)}) \\mid \\mid_2^2}_\\text{(1)} - \\underbrace{\\mid \\mid f(A^{(i)}) - f(N^{(i)}) \\mid \\mid_2^2}_\\text{(2)} + \\alpha \\large ] \\small_+ \\tag{3}$$\n",
        "\n",
        "Here, we are using the notation \"$[z]_+$\" to denote $max(z,0)$.  \n",
        "\n",
        "Notes:\n",
        "- The term (1) is the squared distance between the anchor \"A\" and the positive \"P\" for a given triplet; you want this to be small. \n",
        "- The term (2) is the squared distance between the anchor \"A\" and the negative \"N\" for a given triplet, you want this to be relatively large. It has a minus sign preceding it because minimizing the negative of the term is the same as maximizing that term.\n",
        "- $\\alpha$ is called the margin. It is a hyperparameter that you pick manually. We will use $\\alpha = 0.2$. \n",
        "\n",
        "Most implementations also rescale the encoding vectors to haven L2 norm equal to one (i.e., $\\mid \\mid f(img)\\mid \\mid_2$=1); you won't have to worry about that in this assignment.\n",
        "\n",
        "Implement the triplet loss as defined by formula (3). Here are the 4 steps:\n",
        "1. Compute the distance between the encodings of \"anchor\" and \"positive\": $\\mid \\mid f(A^{(i)}) - f(P^{(i)}) \\mid \\mid_2^2$\n",
        "2. Compute the distance between the encodings of \"anchor\" and \"negative\": $\\mid \\mid f(A^{(i)}) - f(N^{(i)}) \\mid \\mid_2^2$\n",
        "3. Compute the formula per training example: $ \\mid \\mid f(A^{(i)}) - f(P^{(i)}) \\mid \\mid_2^2 - \\mid \\mid f(A^{(i)}) - f(N^{(i)}) \\mid \\mid_2^2 + \\alpha$\n",
        "3. Compute the full formula by taking the max with zero and summing over the training examples:\n",
        "$$\\mathcal{J} = \\sum^{m}_{i=1} \\large[ \\small \\mid \\mid f(A^{(i)}) - f(P^{(i)}) \\mid \\mid_2^2 - \\mid \\mid f(A^{(i)}) - f(N^{(i)}) \\mid \\mid_2^2+ \\alpha \\large ] \\small_+ \\tag{3}$$\n",
        "\n",
        "#### Hints\n",
        "* Useful functions: `tf.reduce_sum()`, `tf.square()`, `tf.subtract()`, `tf.add()`, `tf.maximum()`.\n",
        "* For steps 1 and 2, you will sum over the entries of $\\mid \\mid f(A^{(i)}) - f(P^{(i)}) \\mid \\mid_2^2$ and $\\mid \\mid f(A^{(i)}) - f(N^{(i)}) \\mid \\mid_2^2$.  \n",
        "* For step 4 you will sum over the training examples.\n",
        "* Recall that the square of the L2 norm is the sum of the squared differences: $||x - y||_{2}^{2} = \\sum_{i=1}^{N}(x_{i} - y_{i})^{2}$\n",
        "* Note that the `anchor`, `positive` and `negative` encodings are of shape `(m,128)`, where m is the number of training examples and 128 is the number of elements used to encode a single example.\n",
        "* For steps 1 and 2, you will maintain the number of `m` training examples and sum along the 128 values of each encoding. \n",
        "[tf.reduce_sum](https://www.tensorflow.org/api_docs/python/tf/math/reduce_sum) has an `axis` parameter.  This chooses along which axis the sums are applied.  \n",
        "* Note that one way to choose the last axis in a tensor is to use negative indexing (`axis=-1`).\n",
        "* In step 4, when summing over training examples, the result will be a single scalar value.\n",
        "* For `tf.reduce_sum` to sum across all axes, keep the default value `axis=None`."
      ]
    },
    {
      "cell_type": "code",
      "metadata": {
        "id": "wVEKd16IIzWP"
      },
      "source": [
        "def triplet_loss(y_true, y_pred, alpha = 0.2):\n",
        "    \"\"\"\n",
        "    Implementation of the triplet loss as defined by formula (3)\n",
        "    \n",
        "    Arguments:\n",
        "    y_true -- true labels, required when you define a loss in Keras, you don't need it in this function.\n",
        "    y_pred -- python list containing three objects:\n",
        "            anchor -- the encodings for the anchor images, of shape (None, 128)\n",
        "            positive -- the encodings for the positive images, of shape (None, 128)\n",
        "            negative -- the encodings for the negative images, of shape (None, 128)\n",
        "    \n",
        "    Returns:\n",
        "    loss -- real number, value of the loss\n",
        "    \"\"\"\n",
        "    \n",
        "    anchor, positive, negative = y_pred[0], y_pred[1], y_pred[2]\n",
        "    \n",
        "    ### START CODE HERE ### (≈ 4 lines)\n",
        "    # Step 1: Compute the (encoding) distance between the anchor and the positive\n",
        "    pos_dist = tf.reduce_sum(tf.square(tf.subtract(anchor, positive)), axis=-1)\n",
        "    # Step 2: Compute the (encoding) distance between the anchor and the negative\n",
        "    neg_dist = tf.reduce_sum(tf.square(tf.subtract(anchor, negative)), axis=-1)\n",
        "    # Step 3: subtract the two previous distances and add alpha.\n",
        "    basic_loss = tf.subtract(pos_dist, neg_dist) + alpha\n",
        "    # Step 4: Take the maximum of basic_loss and 0.0. Sum over the training examples.\n",
        "    loss = tf.reduce_sum(tf.maximum(basic_loss,0))\n",
        "    ### END CODE HERE ###\n",
        "    \n",
        "    return loss"
      ],
      "execution_count": null,
      "outputs": []
    },
    {
      "cell_type": "code",
      "metadata": {
        "id": "RYGjFZiwIzWW"
      },
      "source": [
        "with tf.compat.v1.Session() as test:\n",
        "    y_true = (None, None, None)\n",
        "    y_pred = (tf.random.normal([3, 128], mean=6, stddev=0.1, seed = 1),\n",
        "              tf.random.normal([3, 128], mean=1, stddev=1, seed = 1),\n",
        "              tf.random.normal([3, 128], mean=3, stddev=4, seed = 1))\n",
        "    loss = triplet_loss(y_true, y_pred)\n",
        "    \n",
        "    print(\"loss = \" + str(loss.eval()))"
      ],
      "execution_count": null,
      "outputs": []
    },
    {
      "cell_type": "markdown",
      "metadata": {
        "id": "YeguHb_1IzWc"
      },
      "source": [
        "## 2 - Loading the pre-trained model\n",
        "\n",
        "FaceNet is trained by minimizing the triplet loss. But since training requires a lot of data and a lot of computation, we won't train it from scratch here. Instead, we load a previously trained model. Load a model using the following cell; this might take a couple of minutes to run. "
      ]
    },
    {
      "cell_type": "code",
      "metadata": {
        "id": "z1k9iwFpIzWd"
      },
      "source": [
        "FRmodel.compile(optimizer = 'adam', loss = triplet_loss, metrics = ['accuracy'])\n",
        "load_weights_from_FaceNet(FRmodel)"
      ],
      "execution_count": null,
      "outputs": []
    },
    {
      "cell_type": "markdown",
      "metadata": {
        "id": "Kq0LrBI-IzWi"
      },
      "source": [
        "## 3 - Applying the model"
      ]
    },
    {
      "cell_type": "markdown",
      "metadata": {
        "id": "lhTjyfrkIzWk"
      },
      "source": [
        "We are building a system for an office building where the building manager  would like to offer facial recognition to allow the employees to enter the building.\n",
        "\n",
        "We'd like to build a **Face verification** system that gives access to the list of people who live or work there. To get admitted, each person has to swipe an ID card (identification card) to identify themselves at the entrance. The face recognition system then checks that they are who they claim to be."
      ]
    },
    {
      "cell_type": "markdown",
      "metadata": {
        "id": "N7vmAmyZIzWm"
      },
      "source": [
        "### 3.1 - Face Verification\n",
        "\n",
        "Let's build a database containing one encoding vector for each person who is allowed to enter the office. To generate the encoding we use `img_to_encoding(image_path, model)`, which runs the forward propagation of the model on the specified image. \n"
      ]
    },
    {
      "cell_type": "code",
      "metadata": {
        "id": "XwNpY2sOIzWt"
      },
      "source": [
        "def verify(image_path, identity, database, model):\n",
        "    \"\"\"\n",
        "    Function that verifies if the person on the \"image_path\" image is \"identity\".\n",
        "    \n",
        "    Arguments:\n",
        "    image_path -- path to an image\n",
        "    identity -- string, name of the person you'd like to verify the identity. Has to be an employee who works in the office.\n",
        "    database -- python dictionary mapping names of allowed people's names (strings) to their encodings (vectors).\n",
        "    model -- your Inception model instance in Keras\n",
        "    \n",
        "    Returns:\n",
        "    dist -- distance between the image_path and the image of \"identity\" in the database.\n",
        "    door_open -- True, if the door should open. False otherwise.\n",
        "    \"\"\"\n",
        "    \n",
        "    \n",
        "    # Step 1: Compute the encoding for the image. Use img_to_encoding() see example above. (≈ 1 line)\n",
        "    encoding = img_to_encoding(image_path, model)\n",
        "    \n",
        "    # Step 2: Compute distance with identity's image (≈ 1 line)\n",
        "    dist = np.linalg.norm(encoding-database[identity])\n",
        "    \n",
        "    # Step 3: Open the door if dist < 0.7, else don't open (≈ 3 lines)\n",
        "    if dist<0.7:\n",
        "        print(\"It's \" + str(identity) + \", welcome in!\")\n",
        "        door_open = True\n",
        "    else:\n",
        "        print(\"It's not \" + str(identity) + \", please go away\")\n",
        "        door_open = False\n",
        "        \n",
        "        \n",
        "    return dist, door_open"
      ],
      "execution_count": null,
      "outputs": []
    },
    {
      "cell_type": "markdown",
      "metadata": {
        "id": "NlQZ1WsnIzW_"
      },
      "source": [
        "### 3.2 - Face Recognition\n",
        "\n",
        "Our face verification system is mostly working well. But when a person got his ID card stolen and cames back to the office the next day, he couldn't get in! \n",
        "\n",
        "To solve this, we'd like to change your face verification system to a face recognition system. This way, no one has to carry an ID card anymore. An authorized person can just walk up to the building, and the door will unlock for them! \n",
        "\n",
        "We'll implement a face recognition system that takes as input an image, and figures out if it is one of the authorized persons (and if so, who). Unlike the previous face verification system, we will no longer get a person's name as one of the inputs. \n",
        "Implement `who_is_it()`. We will have to go through the following steps:\n",
        "1. Compute the target encoding of the image from image_path\n",
        "2. Find the encoding from the database that has smallest distance with the target encoding. \n",
        "    - Initialize the `min_dist` variable to a large enough number (100). It will help you keep track of what is the closest encoding to the input's encoding.\n",
        "    - Loop over the database dictionary's names and encodings. To loop use `for (name, db_enc) in database.items()`.\n",
        "        - Compute the L2 distance between the target \"encoding\" and the current \"encoding\" from the database.\n",
        "        - If this distance is less than the min_dist, then set `min_dist` to `dist`, and `identity` to `name`."
      ]
    },
    {
      "cell_type": "code",
      "metadata": {
        "id": "8vPotGSvIzXA"
      },
      "source": [
        "def who_is_it(image_path, database, model):\n",
        "    \"\"\"\n",
        "    Implements face recognition for the office by finding who is the person on the image_path image.\n",
        "    \n",
        "    Arguments:\n",
        "    image_path -- path to an image\n",
        "    database -- database containing image encodings along with the name of the person on the image\n",
        "    model -- your Inception model instance in Keras\n",
        "    \n",
        "    Returns:\n",
        "    min_dist -- the minimum distance between image_path encoding and the encodings from the database\n",
        "    identity -- string, the name prediction for the person on image_path\n",
        "    \"\"\"\n",
        "    \n",
        "\n",
        "    \n",
        "    ## Step 1: Compute the target \"encoding\" for the image. Use img_to_encoding() see example above. ## (≈ 1 line)\n",
        "    encoding = img_to_encoding(image_path, model)\n",
        "    \n",
        "    ## Step 2: Find the closest encoding ##\n",
        "    \n",
        "    # Initialize \"min_dist\" to a large value, say 100 (≈1 line)\n",
        "    min_dist = 100\n",
        "    \n",
        "    # Loop over the database dictionary's names and encodings.\n",
        "    for (name, db_enc) in database.items():\n",
        "        \n",
        "        # Compute L2 distance between the target \"encoding\" and the current db_enc from the database. (≈ 1 line)\n",
        "        dist = np.linalg.norm(encoding-db_enc)\n",
        "\n",
        "        # If this distance is less than the min_dist, then set min_dist to dist, and identity to name. (≈ 3 lines)\n",
        "        if dist < min_dist:\n",
        "            min_dist = dist\n",
        "            identity = name\n",
        "\n",
        "\n",
        "    \n",
        "    if min_dist > 0.7:\n",
        "        print(\"Not in the database.\")\n",
        "    else:\n",
        "        print (\"it's \" + str(identity) + \", the distance is \" + str(min_dist))\n",
        "        \n",
        "    return min_dist, identity"
      ],
      "execution_count": null,
      "outputs": []
    },
    {
      "cell_type": "markdown",
      "metadata": {
        "id": "LFeMb0YyHV1j"
      },
      "source": [
        "## 4 - Saving image after face detection and resizing"
      ]
    },
    {
      "cell_type": "markdown",
      "metadata": {
        "id": "SIrg3_pUkh81"
      },
      "source": [
        "### 4.1 - Face Detection"
      ]
    },
    {
      "cell_type": "markdown",
      "metadata": {
        "id": "K3RKeOPk7_ih"
      },
      "source": [
        "Here. we use Opencv2 for face detection. ```haarcascade_frontalface_default.xml``` is the file with tells cv2 which object to detect."
      ]
    },
    {
      "cell_type": "code",
      "metadata": {
        "id": "DvMXmBffHVCm"
      },
      "source": [
        "from urllib.request import urlopen\n",
        "def url_to_image(url, readFlag=cv2.IMREAD_COLOR):\n",
        "    # download the image, convert it to a NumPy array, and then read\n",
        "    # it into OpenCV format\n",
        "    resp = urlopen(url)\n",
        "    image = np.asarray(bytearray(resp.read()), dtype=\"uint8\")\n",
        "    image = cv2.imdecode(image, readFlag)\n",
        "\n",
        "    # return the image\n",
        "    return image\n",
        "def cassscade(imagePath, cascPath):\n",
        "  if ('http' in imagePath) or ('www' in imagePath):\n",
        "    image = url_to_image(imagePath)\n",
        "  else:\n",
        "    image = cv2.imread(imagePath)\n",
        "  gray = cv2.cvtColor(image, cv2.COLOR_BGR2GRAY)\n",
        "  # Detect faces in the image\n",
        "  faceCascade = cv2.CascadeClassifier(cv2.data.haarcascades + cascPath)\n",
        "  faces = faceCascade.detectMultiScale(\n",
        "      gray,\n",
        "      scaleFactor=1.3,\n",
        "      minNeighbors=5,\n",
        "      minSize=(150,150),\n",
        "      flags = cv2.CASCADE_SCALE_IMAGE\n",
        "  )\n",
        "  print (\"Found {0} faces!\".format(len(faces)))\n",
        "  return faces, image"
      ],
      "execution_count": null,
      "outputs": []
    },
    {
      "cell_type": "code",
      "metadata": {
        "id": "0oak-j0xKudm"
      },
      "source": [
        "def get_crop_face(img_path):\n",
        "  faces, image = cassscade(img_path,'haarcascade_frontalface_default.xml')\n",
        "  [[y, x, width, height]] = faces\n",
        "  x1 = max((int)(x-(width*0.1)),0)\n",
        "  x2 = min((int)(x+width+(width*0.1)),image.shape[0])\n",
        "  y1 = max((int)(y-(height*0.1)),0)\n",
        "  y2 = min((int)(y+height+(height*0.1)),image.shape[1])\n",
        "  crop_img = image[x1:x2,y1:y2].copy()\n",
        "  im_shape = np.array(crop_img.shape)\n",
        "  ratio = float(224) / min(im_shape[0],im_shape[1])     # Calculating the ratio to be changed\n",
        "  crop_img = cv2.cvtColor(crop_img, cv2.COLOR_RGB2BGR)  # Manging color shifts\n",
        "  crop_img_pil = Image.fromarray(crop_img)\n",
        "  new_shape=((int)(np.ceil(im_shape[0] * ratio)), (int)(np.ceil(im_shape[1] * ratio)))\n",
        "  resize_img_pil = crop_img_pil.resize(size=(96,96), resample=PIL.Image.BILINEAR)\n",
        "  return(resize_img_pil)\n",
        "#def get_crop_face_from_url(url):\n",
        "# if()"
      ],
      "execution_count": null,
      "outputs": []
    },
    {
      "cell_type": "markdown",
      "metadata": {
        "id": "aNNdZJnVk3xu"
      },
      "source": [
        "### 4.2 - Getting encoding from Database"
      ]
    },
    {
      "cell_type": "markdown",
      "metadata": {
        "id": "e981xTE0BOT_"
      },
      "source": [
        "Run the following code to build the database (represented as a python dictionary). This database maps each person's name to a 128-dimensional encoding of their face."
      ]
    },
    {
      "cell_type": "code",
      "metadata": {
        "id": "A8xfjXtAkfP-"
      },
      "source": [
        "def get_encodings(folder):\n",
        "    database = {}\n",
        "    for filen in os.listdir(folder):\n",
        "      filename=os.path.splitext(filen)[0]\n",
        "      filepath = os.path.join(folder,filen)\n",
        "      if(os.path.splitext(filen)[1]=='.jpg'):\n",
        "        database[filename]=img_to_encoding(filepath, FRmodel)\n",
        "    return database"
      ],
      "execution_count": null,
      "outputs": []
    },
    {
      "cell_type": "code",
      "metadata": {
        "id": "-rkq0czzw-f-"
      },
      "source": [
        "database = get_encodings('/content/Face_Detection/database_dir')\n",
        "def add_to_database(name, filepath, database):\n",
        "  database[name]=img_to_encoding(filepath, FRmodel)\n",
        "  return database"
      ],
      "execution_count": null,
      "outputs": []
    },
    {
      "cell_type": "markdown",
      "metadata": {
        "id": "x4-ofwcWENq9"
      },
      "source": [
        "## 5 - Start the main work"
      ]
    },
    {
      "cell_type": "markdown",
      "metadata": {
        "id": "s-SCjIz-1CRd"
      },
      "source": [
        "<font color='greenl'>\n",
        "To enter the your image in database fill the form given below by:\n",
        "\n",
        "* Selecting from where to enter picture\n",
        "* Name of the person\n",
        "</font>\n",
        "<font color='greenl'>\n",
        "Then press ```ctrl+Enter``` to run the form cell.\n",
        "\n",
        "The image will be saved in the database.\n",
        "Remember this temporary, this will be deleted once you reload the page.\n",
        "**Note-** Make sure picture is high resolution and the face is in the center of the image.\n",
        "</font>"
      ]
    },
    {
      "cell_type": "code",
      "metadata": {
        "id": "qXezCbVcKx2R",
        "cellView": "form"
      },
      "source": [
        "#@title Enter to database\n",
        "Enter_from = \"None\" #@param [\"URL\", \"From_Local_PC\", \"None\"]\n",
        "Person_Name = \"ENTER NAME HERE (if you want to enter)\" #@param {type:\"string\"}\n",
        "Person_Name = Person_Name.strip().title()\n",
        "print(\"Try to select a high resolution picture with face in the center\")\n",
        "if(Enter_from=='URL'):\n",
        "  URL = input(\"Enter URL: \")\n",
        "  img=get_crop_face(URL)\n",
        "  display(img.resize(size=(200,200), resample=PIL.Image.BILINEAR))\n",
        "  img.save('/content/Face_Detection/database_dir/'+Person_Name+\".jpg\")\n",
        "  database=add_to_database(Person_Name, filepath='/content/Face_Detection/database_dir/'+Person_Name+'.jpg', database=database)\n",
        "if(Enter_from=='From_Local_PC'):\n",
        "  print(\"Upload only one picture\")\n",
        "  uploaded = files.upload()\n",
        "  for fn in uploaded.keys():\n",
        "    name=fn\n",
        "    print('User uploaded file \"{name}\" with length {length} bytes'.format(\n",
        "        name=fn, length=len(uploaded[fn])))\n",
        "    shutil.move(fn,\"temp/\"+fn)\n",
        "    img=get_crop_face(\"temp/\"+fn)\n",
        "    display(img.resize(size=(200,200), resample=PIL.Image.BILINEAR))\n",
        "    img.save('/content/Face_Detection/database_dir/'+Person_Name+\".jpg\")\n",
        "  database=add_to_database(Person_Name, filepath='/content/Face_Detection/database_dir/'+Person_Name+'.jpg', database=database)\n",
        "\n"
      ],
      "execution_count": null,
      "outputs": []
    },
    {
      "cell_type": "markdown",
      "metadata": {
        "id": "3_f2EZs_3wKi"
      },
      "source": [
        "<font color='greenl'>Now its fun time, lets see if algoritm recognizes you.\n",
        "Fill the form given below to do that.\n",
        "\n",
        "**Important:** It may be possible that it give bad results but it's worth a try. This is just for fun so currently, the machine learning model used here is a weakly trained model, In future I will add a better one.\n",
        "</font>"
      ]
    },
    {
      "cell_type": "code",
      "metadata": {
        "id": "T8hp5x_XCxaD"
      },
      "source": [
        "print(\"Currently in database-\")\n",
        "for key in database.keys():\n",
        "  print(key)"
      ],
      "execution_count": null,
      "outputs": []
    },
    {
      "cell_type": "code",
      "metadata": {
        "id": "sWeJEUysV9BL",
        "cellView": "form"
      },
      "source": [
        "#@title Verift your image\n",
        "\n",
        "Enter_from = \"From_Local_PC\" #@param [\"URL\", \"From_Local_PC\", \"None\"]\n",
        "Person_Name = \"check\"\n",
        "Person_Name = Person_Name.strip().title()\n",
        "print(\"Try to select a high resolution picture with face in the center\")\n",
        "if(Enter_from=='URL'):\n",
        "  URL = input(\"Enter URL: \")\n",
        "  img=get_crop_face(URL)\n",
        "  display(img.resize(size=(200,200), resample=PIL.Image.BILINEAR))\n",
        "  img.save('/content/Face_Detection/temp/'+Person_Name+\".jpg\")\n",
        "  who_is_it('/content/Face_Detection/temp/'+Person_Name+\".jpg\", database, FRmodel)\n",
        "  \n",
        "if(Enter_from=='From_Local_PC'):\n",
        "  print(\"Upload only one picture\")\n",
        "  uploaded = files.upload()\n",
        "  for fn in uploaded.keys():\n",
        "    name=fn\n",
        "    print('User uploaded file \"{name}\" with length {length} bytes'.format(\n",
        "        name=fn, length=len(uploaded[fn])))\n",
        "    shutil.move(fn,\"temp/\"+fn)\n",
        "    img = get_crop_face(\"temp/\"+fn)\n",
        "  display(img.resize(size=(200,200), resample=PIL.Image.BILINEAR))\n",
        "  img.save('/content/Face_Detection/database_dir/'+Person_Name+\".jpg\")\n",
        "  who_is_it('/content/Face_Detection/temp/'+Person_Name+\".jpg\", database, FRmodel)\n"
      ],
      "execution_count": null,
      "outputs": []
    },
    {
      "cell_type": "markdown",
      "metadata": {
        "id": "kiYPvsulbbJt"
      },
      "source": [
        "##### If the result is wrong\n",
        "* If the result is wrong then it's not anything wrong our code or your method.\n",
        "* It's because it machine learning model used here to recognize faces is a weekly trained. This is due to current lack of computing resourses and face data. This will be fixed in the future."
      ]
    }
  ]
}